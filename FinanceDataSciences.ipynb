{
 "cells": [
  {
   "cell_type": "markdown",
   "id": "92ad76ab",
   "metadata": {},
   "source": [
    "# Data Sciences and Finance"
   ]
  },
  {
   "cell_type": "markdown",
   "id": "7b576f98",
   "metadata": {},
   "source": [
    "## Introduction"
   ]
  },
  {
   "cell_type": "markdown",
   "id": "ca76b52b",
   "metadata": {},
   "source": [
    "#### This document is dedicated to explain how data sciences knowldge canbe applied to area of finance."
   ]
  },
  {
   "cell_type": "markdown",
   "id": "a9f8f607",
   "metadata": {},
   "source": [
    "## Data Science Langauges\n",
    "#### Following are some of the important data sciences languages:\n",
    "| Sr | Language |\n",
    "| --------| ------ |\n",
    "| 1 | Python |\n",
    "| 2 | SQL |\n",
    "| 3 | Java|\n",
    "| 4 | Julia|\n",
    "| 5 | MATLAB|\n",
    "| 6 | C++|"
   ]
  },
  {
   "cell_type": "code",
   "execution_count": 1,
   "id": "cf14a9ca",
   "metadata": {},
   "outputs": [
    {
     "ename": "SyntaxError",
     "evalue": "invalid syntax (1023131036.py, line 3)",
     "output_type": "error",
     "traceback": [
      "\u001b[1;36m  Cell \u001b[1;32mIn[1], line 3\u001b[1;36m\u001b[0m\n\u001b[1;33m    |Sr | Title of Library|\u001b[0m\n\u001b[1;37m    ^\u001b[0m\n\u001b[1;31mSyntaxError\u001b[0m\u001b[1;31m:\u001b[0m invalid syntax\n"
     ]
    }
   ],
   "source": [
    "# Data Science Libraries\n",
    "#### Following are some of the important libraries normally used by professional:\n",
    "|Sr | Title of Library|\n",
    "| 1 | TensorFlow|\n",
    "| 2 | NumPy|\n",
    "| 3 | SciPy|\n",
    "| 4 | Pandas|\n",
    "| 5 | Keras|\n",
    "| 6 | PyTorch|"
   ]
  },
  {
   "cell_type": "markdown",
   "id": "d27a0155",
   "metadata": {},
   "source": [
    "# Data Science Libraries\n",
    "#### Following are some of the important libraries normally used by professional:\n",
    "|Sr | Title of Library|\n",
    "| 1 | TensorFlow|\n",
    "| 2 | NumPy|\n",
    "| 3 | SciPy|\n",
    "| 4 | Pandas|\n",
    "| 5 | Keras|\n",
    "| 6 | PyTorch|"
   ]
  },
  {
   "cell_type": "markdown",
   "id": "bf6b94b1",
   "metadata": {},
   "source": [
    "# Data Science Libraries\n",
    "#### Following are some of the important libraries normally used by professional:\n",
    "|Sr | Title of Library|\n",
    "|---|--------------|\n",
    "| 1 | TensorFlow|\n",
    "| 2 | NumPy|\n",
    "| 3 | SciPy|\n",
    "| 4 | Pandas|\n",
    "| 5 | Keras|\n",
    "| 6 | PyTorch|"
   ]
  },
  {
   "cell_type": "markdown",
   "id": "bcaa60ec",
   "metadata": {},
   "source": [
    "# Data Science Tools\n",
    "#### Following are few most important data science tools:\n",
    "|Sr | Title of Library|\n",
    "|---| ----------------|\n",
    "| 1 | Apache Spark|\n",
    "| 2 | IBM SPSS|\n",
    "| 3 | Excel|\n",
    "| 4 | POWER BI|\n",
    "| 5 | Matplotlib|\n",
    "| 6 | SAS|"
   ]
  },
  {
   "cell_type": "markdown",
   "id": "1f82ee86",
   "metadata": {},
   "source": [
    "# Introducing Arithmatic Expression"
   ]
  },
  {
   "cell_type": "code",
   "execution_count": 2,
   "id": "393d6c14",
   "metadata": {},
   "outputs": [
    {
     "data": {
      "text/plain": [
       "400"
      ]
     },
     "execution_count": 2,
     "metadata": {},
     "output_type": "execute_result"
    }
   ],
   "source": [
    "145+255"
   ]
  },
  {
   "cell_type": "code",
   "execution_count": 3,
   "id": "712824a6",
   "metadata": {},
   "outputs": [
    {
     "data": {
      "text/plain": [
       "2125"
      ]
     },
     "execution_count": 3,
     "metadata": {},
     "output_type": "execute_result"
    }
   ],
   "source": [
    "25*85"
   ]
  },
  {
   "cell_type": "markdown",
   "id": "742f93be",
   "metadata": {},
   "source": [
    "# Creating Code Cell to multiply and add numbers"
   ]
  },
  {
   "cell_type": "code",
   "execution_count": 7,
   "id": "03064a4c",
   "metadata": {},
   "outputs": [
    {
     "name": "stdout",
     "output_type": "stream",
     "text": [
      "250\n"
     ]
    }
   ],
   "source": [
    "X=100\n",
    "Y=50\n",
    "Z=2*X+Y\n",
    "print(Z)"
   ]
  },
  {
   "cell_type": "markdown",
   "id": "174a296c",
   "metadata": {},
   "source": [
    "# Converting minutes into hour"
   ]
  },
  {
   "cell_type": "code",
   "execution_count": 8,
   "id": "51eb9ddc",
   "metadata": {},
   "outputs": [
    {
     "name": "stdout",
     "output_type": "stream",
     "text": [
      "Enter time in minutes:    362\n",
      "6.033333333333333\n"
     ]
    }
   ],
   "source": [
    "time=float(input(\"Enter time in minutes:    \"))\n",
    "hour=float(time/60)\n",
    "print(hour)"
   ]
  },
  {
   "cell_type": "markdown",
   "id": "879da7e1",
   "metadata": {},
   "source": [
    "# Objectives"
   ]
  },
  {
   "cell_type": "markdown",
   "id": "6905194e",
   "metadata": {},
   "source": [
    "1. First objective of this document is to show that data science is equally applicable to finance.\n",
    "2. Second objective is to inform thta data analysis is extremly important subject.\n"
   ]
  },
  {
   "cell_type": "markdown",
   "id": "acfb7406",
   "metadata": {},
   "source": [
    "# Author's Name\n",
    "#### The document is prepared by Syed Kashif Saeed"
   ]
  },
  {
   "cell_type": "code",
   "execution_count": null,
   "id": "6f753b42",
   "metadata": {},
   "outputs": [],
   "source": []
  }
 ],
 "metadata": {
  "kernelspec": {
   "display_name": "Python 3 (ipykernel)",
   "language": "python",
   "name": "python3"
  },
  "language_info": {
   "codemirror_mode": {
    "name": "ipython",
    "version": 3
   },
   "file_extension": ".py",
   "mimetype": "text/x-python",
   "name": "python",
   "nbconvert_exporter": "python",
   "pygments_lexer": "ipython3",
   "version": "3.10.11"
  }
 },
 "nbformat": 4,
 "nbformat_minor": 5
}
